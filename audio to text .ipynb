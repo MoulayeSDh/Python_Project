{
 "cells": [
  {
   "cell_type": "code",
   "execution_count": 2,
   "id": "f3d815ec-16b0-489b-9e2f-b18d8887f37d",
   "metadata": {},
   "outputs": [
    {
     "name": "stdout",
     "output_type": "stream",
     "text": [
      "Texte extrait :\n",
      "Erreur avec le service de reconnaissance vocale.\n"
     ]
    }
   ],
   "source": [
    "import speech_recognition as sr\n",
    "from pydub import AudioSegment\n",
    "\n",
    "def m4a_to_text(audio_file):\n",
    "    # Convertir le fichier .m4a en .wav\n",
    "    sound = AudioSegment.from_file(audio_file, format=\"m4a\")\n",
    "    wav_file = \"converted_audio.wav\"\n",
    "    sound.export(wav_file, format=\"wav\")\n",
    "\n",
    "    # Initialisation du recognizer\n",
    "    recognizer = sr.Recognizer()\n",
    "\n",
    "    # Chargement de l'audio .wav\n",
    "    with sr.AudioFile(wav_file) as source:\n",
    "        audio_data = recognizer.record(source)\n",
    "\n",
    "    # Reconnaissance vocale (utilisation de Google Web Speech API)\n",
    "    try:\n",
    "        text = recognizer.recognize_google(audio_data)\n",
    "        return text\n",
    "    except sr.UnknownValueError:\n",
    "        return \"L'audio n'a pas pu être compris.\"\n",
    "    except sr.RequestError:\n",
    "        return \"Erreur avec le service de reconnaissance vocale.\"\n",
    "\n",
    "# Utilisation\n",
    "audio_file_path = \"C://Users//sisqo32//Desktop//Whitepaper Companion Podcast - Foundational LLMs & Text Generation.m4a\"  # Remplace par le chemin de ton fichier .m4a\n",
    "result = m4a_to_text(audio_file_path)\n",
    "print(\"Texte extrait :\")\n",
    "print(result)\n"
   ]
  },
  {
   "cell_type": "code",
   "execution_count": null,
   "id": "86110b85-8f8b-4c60-a434-33a46e17b2de",
   "metadata": {},
   "outputs": [],
   "source": []
  }
 ],
 "metadata": {
  "kernelspec": {
   "display_name": "Python 3 (ipykernel)",
   "language": "python",
   "name": "python3"
  },
  "language_info": {
   "codemirror_mode": {
    "name": "ipython",
    "version": 3
   },
   "file_extension": ".py",
   "mimetype": "text/x-python",
   "name": "python",
   "nbconvert_exporter": "python",
   "pygments_lexer": "ipython3",
   "version": "3.10.11"
  },
  "widgets": {
   "application/vnd.jupyter.widget-state+json": {
    "state": {},
    "version_major": 2,
    "version_minor": 0
   }
  }
 },
 "nbformat": 4,
 "nbformat_minor": 5
}
